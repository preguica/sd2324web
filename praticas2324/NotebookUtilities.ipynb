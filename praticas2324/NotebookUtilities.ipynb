{
 "cells": [
  {
   "cell_type": "markdown",
   "id": "6f9bc6e6",
   "metadata": {},
   "source": [
    "#LAB 1 "
   ]
  },
  {
   "cell_type": "code",
   "execution_count": 6,
   "id": "b1620b76",
   "metadata": {
    "tags": []
   },
   "outputs": [
    {
     "name": "stdout",
     "output_type": "stream",
     "text": [
      "/Users/smd/Documents/GitHub/sd2324web/praticas2324\n",
      "[NbConvertApp] Converting notebook lab1/sd2324-lab1.ipynb to html\n",
      "[NbConvertApp] Writing 623210 bytes to lab1/sd2324-lab1.html\n",
      "[NbConvertApp] Converting notebook lab1/sd2324-lab1.ipynb to slides\n",
      "[NbConvertApp] Writing 627618 bytes to lab1/sd2324-lab1.slides.html\n"
     ]
    }
   ],
   "source": [
    "!pwd\n",
    "!jupyter nbconvert --to html --TemplateExporter.exclude_input_prompt=True --TemplateExporter.exclude_output_prompt=True lab1/sd2324-lab1.ipynb\n",
    "!jupyter nbconvert --to slides --TemplateExporter.exclude_input_prompt=True --TemplateExporter.exclude_output_prompt=True lab1/sd2324-lab1.ipynb\n"
   ]
  },
  {
   "cell_type": "code",
   "execution_count": null,
   "id": "e07fb487",
   "metadata": {},
   "outputs": [],
   "source": []
  },
  {
   "cell_type": "code",
   "execution_count": 3,
   "id": "116d5a95",
   "metadata": {
    "tags": []
   },
   "outputs": [
    {
     "data": {
      "text/plain": [
       "{'theme': 'white',\n",
       " 'transition': 'concave',\n",
       " 'start_slideshow_at': 'selected',\n",
       " 'width': '100%',\n",
       " 'height': '100%'}"
      ]
     },
     "execution_count": 3,
     "metadata": {},
     "output_type": "execute_result"
    }
   ],
   "source": [
    "from traitlets.config.manager import BaseJSONConfigManager\n",
    "from pathlib import Path\n",
    "path = Path.home() / \".jupyter\" / \"nbconfig\"\n",
    "cm = BaseJSONConfigManager(config_dir=str(path))\n",
    "cm.update(\n",
    "    \"rise\",\n",
    "    {\n",
    "        \"theme\": \"white\",\n",
    "        \"transition\": \"concave\",\n",
    "        \"start_slideshow_at\": \"selected\",\n",
    "        \"width\": \"100%\",\n",
    "        \"height\": \"100%\"\n",
    "     }\n",
    ")"
   ]
  },
  {
   "cell_type": "code",
   "execution_count": 4,
   "id": "c94bd184",
   "metadata": {
    "tags": []
   },
   "outputs": [
    {
     "name": "stdout",
     "output_type": "stream",
     "text": [
      "Writing rise.css\n"
     ]
    }
   ],
   "source": [
    "%%writefile rise.css\n",
    "\n",
    ".rise-enabled {\n",
    "    background-color: #FFFFFFFF !important;\n",
    "    border-top: 30px #919191 solid;\n",
    "    border-bottom: 30px #919191 solid;\n",
    "}\n",
    "\n",
    ".reveal pre code {\n",
    "\tpadding: 1px;\n",
    "\toverflow: auto;\n",
    "\tmax-height: 95%;\n",
    "\tword-wrap: normal;\n",
    "    font-size: 0.9em;\n",
    "    background-color: #FFFFF0FF\n",
    "}\n",
    "\n",
    ".reveal h1 code, .reveal h2 code, .reveal h3 code, .reveal h4 code {\n",
    "    text-transform: none;\n",
    "  }\n",
    "\n",
    ".reveal div.highlight > pre {\n",
    "    margin: 0;\n",
    "    width: 100%;\n",
    "    font-size: var(--jp-code-font-size);\n",
    "    background: red;\n",
    "    zoom: 0.1\n",
    "}"
   ]
  },
  {
   "cell_type": "code",
   "execution_count": null,
   "id": "26be7c4e",
   "metadata": {},
   "outputs": [],
   "source": []
  }
 ],
 "metadata": {
  "kernelspec": {
   "display_name": "Python 3 (ipykernel)",
   "language": "python",
   "name": "python3"
  },
  "language_info": {
   "codemirror_mode": {
    "name": "ipython",
    "version": 3
   },
   "file_extension": ".py",
   "mimetype": "text/x-python",
   "name": "python",
   "nbconvert_exporter": "python",
   "pygments_lexer": "ipython3",
   "version": "3.9.6"
  }
 },
 "nbformat": 4,
 "nbformat_minor": 5
}
