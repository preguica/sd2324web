{
 "cells": [
  {
   "cell_type": "markdown",
   "metadata": {
    "slideshow": {
     "slide_type": "skip"
    }
   },
   "source": [
    "<style>\n",
    ".jp-RenderedHTMLCommon pre {\n",
    "        background-color: #FFFFF0FF;\n",
    "}\n",
    "    \n",
    ".reveal pre code {\n",
    "\tpadding: 1px;\n",
    "\toverflow: auto;\n",
    "\tmax-height: 95%;\n",
    "\tword-wrap: normal;\n",
    "    font-size: 0.9em;\n",
    "    background-color: #FFFFF0FF\n",
    "}\n",
    "</style>"
   ]
  },
  {
   "cell_type": "markdown",
   "metadata": {
    "slideshow": {
     "slide_type": "slide"
    }
   },
   "source": [
    "# Distributed Systems\n",
    "## 2022/22\n",
    "\n",
    "Lab 3\n",
    "\n",
    "Nuno Preguiça, Sérgio Duarte, João Resende"
   ]
  },
  {
   "cell_type": "markdown",
   "metadata": {
    "slideshow": {
     "slide_type": "slide"
    }
   },
   "source": [
    "# Goals\n",
    "\n",
    "In the end of this lab you should be able to:\n",
    "\n",
    "+ Know how to deal with errors on REST clients;"
   ]
  },
  {
   "cell_type": "markdown",
   "metadata": {
    "slideshow": {
     "slide_type": "slide"
    }
   },
   "source": [
    "## REST - Client Errors"
   ]
  },
  {
   "cell_type": "markdown",
   "metadata": {
    "slideshow": {
     "slide_type": "slide"
    }
   },
   "source": [
    "## Causes\n",
    "\n",
    "A REST request might fail for several reasons:\n",
    "\n",
    "+ The server is not running;\n",
    "+ The server is slow;\n",
    "+ A TCP connection was dropped;\n",
    "+ The network failed;\n",
    "+ There was a network anomaly (e.g., routing)\n"
   ]
  },
  {
   "cell_type": "markdown",
   "metadata": {
    "slideshow": {
     "slide_type": "slide"
    }
   },
   "source": [
    "## Transient failures\n",
    "\n",
    "Temporary failures can be ***masked*** by issuing\n",
    "the request multiple times.\n",
    "\n",
    "Usually, the client quits after a few retries to\n",
    "avoid blocking the application forever,<br>for example, in\n",
    "case the server has crashed."
   ]
  },
  {
   "cell_type": "markdown",
   "metadata": {
    "slideshow": {
     "slide_type": "notes"
    }
   },
   "source": [
    "Note:\n",
    "\n",
    "Transient failures are temporary issues that resolve themselves shortly."
   ]
  },
  {
   "cell_type": "markdown",
   "metadata": {
    "slideshow": {
     "slide_type": "slide"
    }
   },
   "source": [
    "## ProcessingException\n",
    "\n",
    "Jersey (JAX-RS) exposes request failures to clients in the form of a Java exception: [javax.ws.rs.ProcessingException](https://docs.oracle.com/javaee/7/api/javax/ws/rs/ProcessingException.html)\n",
    "\n",
    "A **try{ } catch{}** block can be used to retry the request automatically after a small amount of time.\n"
   ]
  },
  {
   "cell_type": "markdown",
   "metadata": {
    "slideshow": {
     "slide_type": "notes"
    }
   },
   "source": [
    "Note: Waiting a bit before retrying the request prevents a too agressive client behavior and allows some time for the transient error condition disappear."
   ]
  },
  {
   "cell_type": "markdown",
   "metadata": {
    "slideshow": {
     "slide_type": "slide"
    }
   },
   "source": [
    "### Example - CreateUser (1)\n",
    "\n",
    "Setting the client timeout values...\n",
    "\n",
    "```java\n",
    "protected static final int READ_TIMEOUT = 5000;\n",
    "protected static final int CONNECT_TIMEOUT = 5000;\n",
    "\n",
    "ClientConfig config = new ClientConfig();\n",
    "\n",
    "config.property(ClientProperties.READ_TIMEOUT, READ_TIMEOUT);\n",
    "config.property( ClientProperties.CONNECT_TIMEOUT, CONNECT_TIMEOUT);\n",
    "\t\t\n",
    "Client client = ClientBuilder.newClient(config);\n",
    "\n",
    "```"
   ]
  },
  {
   "cell_type": "markdown",
   "metadata": {
    "slideshow": {
     "slide_type": "notes"
    }
   },
   "source": [
    "In the future, other changes to client behavior will be done the someway."
   ]
  },
  {
   "cell_type": "markdown",
   "metadata": {
    "slideshow": {
     "slide_type": "slide"
    }
   },
   "source": [
    "### Example - CreateUser (2)\n",
    "```java\n",
    "protected static final int MAX_RETRIES = 10;\n",
    "protected static final int RETRY_SLEEP = 1000;\n",
    "\n",
    "@Override\n",
    "public String createUser(User user) {\n",
    "\n",
    "\tWebTarget target = client.target( serverURI ).path( UsersService.PATH );\n",
    "\tfor (int i = 0; i < MAX_RETRIES; i++)\n",
    "\t\ttry {\n",
    "\t\t\tResponse r = target.request()\n",
    "\t\t\t\t.accept(MediaType.APPLICATION_JSON)\n",
    "\t\t\t\t.post(Entity.entity(user, MediaType.APPLICATION_JSON));\n",
    "\n",
    "            if( r.getStatus() == Status.OK.getStatusCode() && r.hasEntity() )\n",
    "                // SUCCESS\n",
    "                return r.readEntity(String.class);\n",
    "            else {\n",
    "                System.out.println(\"Error, HTTP error status: \" + r.getStatus() );\n",
    "                break;\n",
    "            }\n",
    "\t\t} catch (ProcessingException x) {\n",
    "            sleep( RETRY_SLEEP );\n",
    "        }\n",
    "\treturn null; // Report failure\n",
    "}\n",
    "```"
   ]
  },
  {
   "cell_type": "markdown",
   "metadata": {
    "slideshow": {
     "slide_type": "slide"
    }
   },
   "source": [
    "### Can we do better?\n",
    "\n",
    "The sample code above needs to be **repeated for all operations** of all services!\n",
    "\n",
    " + Doable, but **error prone**, because it invites a lot of ***cut & paste***...\n",
    "\n",
    "Can we make it more general?"
   ]
  },
  {
   "cell_type": "markdown",
   "metadata": {
    "slideshow": {
     "slide_type": "fragment"
    }
   },
   "source": [
    "Of course!!!"
   ]
  },
  {
   "cell_type": "markdown",
   "metadata": {
    "slideshow": {
     "slide_type": "slide"
    }
   },
   "source": [
    "### Step 1 - Implement the request as a private method\n",
    "\n",
    "```java \n",
    "\n",
    "private String clt_createUser(User user) {\n",
    "    Response r = target.request()\n",
    "                    .accept(MediaType.APPLICATION_JSON)\n",
    "                    .post(Entity.entity(user, MediaType.APPLICATION_JSON));\n",
    "\n",
    "    if( r.getStatus() == Status.OK.getStatusCode() && r.hasEntity() )\n",
    "        return r.readEntity(String.class);\n",
    "    else\n",
    "        return null;\n",
    "}\n",
    "```"
   ]
  },
  {
   "cell_type": "markdown",
   "metadata": {
    "slideshow": {
     "slide_type": "slide"
    }
   },
   "source": [
    "### Step 2 - Implement the retry behavior as a generic operation\n",
    "\n",
    "```java\n",
    "protected <T> T reTry(java.util.function.Supplier<T> func) {\n",
    "    for (int i = 0; i < MAX_RETRIES; i++)\n",
    "        try {\n",
    "            return func.get(); // Success\n",
    "        } catch (ProcessingException x) {\n",
    "\t\t\tsleep(RETRY_SLEEP);\n",
    "\t\t} catch (Exception x) {\n",
    "            // Handle other errors\n",
    "            break;\n",
    "        }   \n",
    "    return null; // Failure\n",
    "}\n",
    "```"
   ]
  },
  {
   "cell_type": "markdown",
   "metadata": {
    "slideshow": {
     "slide_type": "notes"
    }
   },
   "source": [
    "Note:\n",
    "    \n",
    "This method can be part of super class inherited by all service clients."
   ]
  },
  {
   "cell_type": "markdown",
   "metadata": {
    "slideshow": {
     "slide_type": "slide"
    }
   },
   "source": [
    "### Step 3 - Implement the requests with retry behavior\n",
    "\n",
    "```java\n",
    "public String createUser(User user) {\n",
    "    return reTry( () -> clt_createUser( user ));\n",
    "}\n",
    "\n",
    "public User getUser(User user, String password) {\n",
    "    return reTry( () -> clt_getUser( user, password ));\n",
    "}\n",
    "\n",
    "```"
   ]
  },
  {
   "cell_type": "markdown",
   "metadata": {
    "slideshow": {
     "slide_type": "notes"
    }
   },
   "source": [
    "We are making use of [Java Lambda Expressions](https://docs.oracle.com/javase/tutorial/java/javaOO/lambdaexpressions.html)...\n",
    "\n",
    "`() -> clt_createUser( user )` is a function that returns a result, making it compatible with the functional interface [Supplier&lt;T&gt;](https://docs.oracle.com/javase/8/docs/api/java/util/function/Supplier.html) used as the parameter of the `reTry` generic method.\n",
    "\n"
   ]
  },
  {
   "cell_type": "markdown",
   "metadata": {
    "slideshow": {
     "slide_type": "slide"
    }
   },
   "source": [
    "# Exercises\n",
    "\n",
    "1. Test the retry mechanism to mask transient failures;\n",
    "2. Complete the provided client-side code of UserService service. "
   ]
  },
  {
   "cell_type": "markdown",
   "metadata": {
    "slideshow": {
     "slide_type": "notes"
    }
   },
   "source": [
    "## Test masking transient failures\n",
    "\n",
    "\n",
    "1. Download this [lab's project](https://preguica.github.io/sd2223/praticas2223/aula3/sd2223-aula3.zip);\n",
    "2. Build the Docker image, using the usual maven command;\n",
    "\n",
    "  `mvn clean compile assembly:single docker:build`\n",
    "3. Launch the server;\n",
    "\n",
    " `docker network create -d bridge sdnet` (if necessary)\n",
    " \n",
    " `docker run --rm -h users-1 --name users-1 --network sdnet -p 8080:8080 sd2223-aula3-xxxxx-yyyyy`\n",
    " \n",
    "4. Create the client container:\n",
    "\n",
    "    `docker run -it --network sdnet sd2223-aula3-xxxxx-yyyyy /bin/bash`\n",
    "\n",
    "5. Create a new user.\n",
    "\n",
    "    In the client container shell, type:\n",
    "\n",
    "    `java -cp sd2223.jar aula3.clients.CreateUserClient http://users-1:8080/rest nmp 12345 nova \"Nuno Preguica\"`\n",
    "    \n",
    "    Confirm the request succeeded and returned: `nmp`\n",
    "    \n",
    "6. Stop the server.\n",
    "\n",
    "    CTRL-C or execute in another terminal:\n",
    "    \n",
    "    `docker rm -f users-1`\n",
    "    \n",
    "7. Execute step 5 again.\n",
    "\n",
    "   This time, since the server is not running, the client should output:\n",
    "   \n",
    "   `FINE: ProcessingException: java.net.UnknownHostException: users-1`\n",
    "   \n",
    "8. Launch the server again (step 3)\n",
    "\n",
    "   The client should finish and return: `nmp`\n",
    "   "
   ]
  },
  {
   "cell_type": "markdown",
   "metadata": {},
   "source": []
  },
  {
   "cell_type": "markdown",
   "metadata": {},
   "source": []
  }
 ],
 "metadata": {
  "celltoolbar": "Slideshow",
  "kernelspec": {
   "display_name": "Python 3 (ipykernel)",
   "language": "python",
   "name": "python3"
  },
  "language_info": {
   "codemirror_mode": {
    "name": "ipython",
    "version": 3
   },
   "file_extension": ".py",
   "mimetype": "text/x-python",
   "name": "python",
   "nbconvert_exporter": "python",
   "pygments_lexer": "ipython3",
   "version": "3.10.6"
  }
 },
 "nbformat": 4,
 "nbformat_minor": 4
}
