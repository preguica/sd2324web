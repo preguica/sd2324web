{
 "cells": [
  {
   "cell_type": "markdown",
   "id": "b3f0f5fd",
   "metadata": {
    "slideshow": {
     "slide_type": "slide"
    }
   },
   "source": [
    "# Distributed Systems\n",
    "## 2022/23\n",
    "\n",
    "Lab 9\n",
    "\n",
    "Nuno Preguiça, Sérgio Duarte, João Resende"
   ]
  },
  {
   "cell_type": "markdown",
   "id": "05850652",
   "metadata": {
    "slideshow": {
     "slide_type": "slide"
    }
   },
   "source": [
    "# Goals\n",
    "\n",
    "In the end of this lab you should be able to:\n",
    "\n",
    "+ Perceber o que é o OAuth.\n",
    "+ Saber registar (e configurar) uma aplicação no Mastodon.\n",
    "+ Saber gerar credenciais OAuth na plataforma de gestão de aplicações do Mastodon.\n",
    "+ Saber tirar partido da documentação da API REST do Mastodon.\n",
    "+ Saber fazer pedidos OAuth para o Mastodon em Java utilizando a biblioteca ScribeJava."
   ]
  },
  {
   "cell_type": "markdown",
   "id": "62c11c30",
   "metadata": {
    "slideshow": {
     "slide_type": "slide"
    }
   },
   "source": [
    "# Secure Online Services\n",
    "\n",
    "Most online services only allow access through secure channels, with client authentication.\n",
    "\n",
    "+ Secure channels are provided by SSL/TLS;\n",
    "\n",
    "What about client authentication?\n",
    "\n",
    "How can a user provide access to its resources hosted in online services to third-party clients/apps/services, \n",
    "without sharing her credentials?"
   ]
  },
  {
   "cell_type": "markdown",
   "id": "dd401058",
   "metadata": {
    "slideshow": {
     "slide_type": "slide"
    }
   },
   "source": [
    "# OAUTH \n",
    "\n",
    "OAuth allows users to provide access to resources stored in an external service (eg., Mastodon) to be accessed securely by some other application, ***without sharing the users' credentials***."
   ]
  },
  {
   "cell_type": "markdown",
   "id": "ccf39e97",
   "metadata": {
    "slideshow": {
     "slide_type": "slide"
    }
   },
   "source": [
    "# OAuth Application registration\n",
    "\n",
    "Applications that wish to use user’s resources in some external service **must register*** with that service.\n",
    "\n",
    "For example, a web application designed to access the user's own Mastodon profile will have to be a registered application at Mastodon.\n",
    "\n",
    "• This step creates the authentication pieces for that specific application: **Client key**, **Client Secret** and  an **Access token** -- required arguments for the Mastodon API."
   ]
  },
  {
   "cell_type": "markdown",
   "id": "0bf4f037",
   "metadata": {
    "slideshow": {
     "slide_type": "slide"
    }
   },
   "source": [
    "## Register an Application with Mastodon\n",
    "\n",
    "* You received an authentication code for a Mastodon instance running in the University internal network (vpn.fct.unl.pt)\n",
    "\n",
    "* Connect to the internal network\n",
    "* Access to [Mastodon](http://10.170.138.52:3000) and test your account\n",
    "* Create an Application token:\n",
    " * Select: Preferences > development [Directlink](http://10.170.138.52:3000/settings/applications)\n",
    "  * New application\n",
    "  * Choose an application name\n",
    "  * The application website can be: `http://localhost`\n",
    "  * In the Scopes section, check `write:statuses`\n",
    "  * Save changes\n",
    "* Retrieve your **Client key**, **Client Secret** and generate the **Access token**\n"
   ]
  },
  {
   "cell_type": "markdown",
   "id": "1d07bda0",
   "metadata": {
    "slideshow": {
     "slide_type": "slide"
    }
   },
   "source": [
    "# Mastodon\n",
    "\n",
    "[Mastodon](https://en.wikipedia.org/wiki/Mastodon_(social_network)) is a social network similar to Twitter.\n",
    "\n",
    "Unlike Twitter, which is centralized, Mastodon is based on a notion of federated servers (domains).\n",
    "\n",
    "The key concepts are:\n",
    "\n",
    "+ [Status](https://docs.joinmastodon.org/entities/Status/) - represents a *post* (or message) from a user\n",
    "+ [Timeline](https://docs.joinmastodon.org/methods/timelines/) - represents a list of posts (ie., feed)\n",
    " + Depending on which timeline their are posted, *statuses* can be *public* or *private*"
   ]
  },
  {
   "cell_type": "markdown",
   "id": "5b7b79df",
   "metadata": {
    "slideshow": {
     "slide_type": "slide"
    }
   },
   "source": [
    "# Mastodon API Documentation\n",
    "\n",
    "The full Mastodon API is extensive and well documented [here](https://docs.joinmastodon.org/api/)\n",
    "\n",
    "It will be important familiarize your self with main Mastodon concepts, bedore trying to\n",
    "use the API.\n",
    "\n",
    "The API consists of several *REST-like* endpoints, covering many functionalities.\n",
    "\n",
    "For each endpoint that you need to access, **pay attention to**:\n",
    "\n",
    "+ The endpoint **path**; \n",
    "+ Which **arguments** are needed and how they are passed;\n",
    "+ The return code and the request result (in JSON format, most of the time)."
   ]
  },
  {
   "cell_type": "markdown",
   "id": "126f2034",
   "metadata": {
    "slideshow": {
     "slide_type": "slide"
    }
   },
   "source": [
    "## Mastodon - Post a Status Example\n",
    "\n",
    "The API methods that deal with individual *status* are found [here](https://docs.joinmastodon.org/methods/statuses/)\n",
    "\n",
    "Check the [create](https://docs.joinmastodon.org/methods/statuses/#create) endpoint.\n",
    "\n",
    "The important details are:\n",
    "+ Path: `POST /api/v1/statuses HTTP/1.1`\n",
    "+ Arguments: `status` and `visibility`\n",
    "+ Result: encoded in JSON\n",
    "\n",
    "```json\n",
    "{\n",
    "  \"id\": \"103254962155278888\",\n",
    "  \"created_at\": \"2019-12-05T11:34:47.196Z\",\n",
    "  // ...\n",
    "  \"content\": \"<p>test content</p>\",\n",
    "  // ...\n",
    "  \"application\": {\n",
    "    \"name\": \"test app\",\n",
    "    \"website\": null\n",
    "  },\n",
    "}\n",
    "```"
   ]
  },
  {
   "cell_type": "markdown",
   "id": "8bc91417",
   "metadata": {
    "slideshow": {
     "slide_type": "slide"
    }
   },
   "source": [
    "# OAuth Requests to Mastodon in JAVA            \n",
    "\n",
    "In Java, OAuth requests are straightforward using a third party library, such as [ScribeJava](https://github.com/scribejava/scribejava)\n",
    "\n",
    "ScribeJava requires additional Maven dependencies in the project's pom.xml\n",
    "```xml\n",
    "<dependency>\n",
    "    <groupId>com.github.scribejava</groupId>\n",
    "    <artifactId>scribejava-apis</artifactId>\n",
    "    <version>8.3.3</version>\n",
    "</dependency>\n",
    "<dependency>\n",
    "    <groupId>com.google.code.gson</groupId>\n",
    "    <artifactId>gson</artifactId>\n",
    "    <version>2.10.1</version>\n",
    "</dependency>\n",
    "```\n",
    "[Gson](https://github.com/google/gson) is JSON encoder/decoder library from Google. \n",
    "\n",
    "Will be used to encode operation arguments and decode the results."
   ]
  },
  {
   "cell_type": "markdown",
   "id": "06021d63",
   "metadata": {
    "slideshow": {
     "slide_type": "slide"
    }
   },
   "source": [
    "# Mastodon API ScribeJava: Initialization...\n",
    "\n",
    "```java\n",
    "private static final String clientKey = \"<create your own>\";\n",
    "private static final String clientSecret = \"<create your own>\";\n",
    "private static final String accessTokenStr = \"<create your own>\";\n",
    "\n",
    "protected OAuth20Service service;\n",
    "protected OAuth2AccessToken accessToken;\n",
    "\n",
    "service = new ServiceBuilder(clientKey).apiSecret(clientSecret).build(MastodonApi.instance());\n",
    "accessToken = new OAuth2AccessToken(accessTokenStr);\n",
    "```"
   ]
  },
  {
   "cell_type": "markdown",
   "id": "7c0afe58",
   "metadata": {
    "slideshow": {
     "slide_type": "slide"
    }
   },
   "source": [
    "# Mastodon API Request Pattern\n",
    "\n",
    "```java\n",
    "try {\n",
    "    // Assemble endpoint url (to include path arguments, if needed)\n",
    "    var endpoint_url = ...\n",
    "    final OAuthRequest request = new OAuthRequest(Verb.POST, endpoint_url);\n",
    "\n",
    "\t// Add Body parameters...\n",
    "    request.addBodyParam(key1, value1);\n",
    "    request.addBodyParam(key2, value2);\n",
    "\n",
    "    // Add Query parameters...\n",
    "    request.addQuerystringParameter(key3, value3);\n",
    "\n",
    "\tservice.signRequest(accessToken, request);\n",
    "\tResponse response = service.execute(request))\n",
    "    if( response.getCode() == HTTP_OK) {\n",
    "        var json = response.getBody();\n",
    "        // decode JSON result\n",
    "    }\n",
    "    // handle error\n",
    "} catch( Exception x ) {\n",
    "    ...\n",
    "}\n",
    "```"
   ]
  },
  {
   "cell_type": "markdown",
   "id": "aef7c52f",
   "metadata": {
    "slideshow": {
     "slide_type": "slide"
    }
   },
   "source": [
    "# Mastodon API Results\n",
    "## Represented as Java Records\n",
    "\n",
    "Create a Java record to represent the data to be decoded.\n",
    "\n",
    "```java\n",
    "public record MastodonAccount(String id, String username) {\n",
    "}\n",
    "\n",
    "public record PostStatusResult(String id, String content, String created_at, MastodonAccount account) {\n",
    "}\n",
    "\n",
    "```\n",
    "***NOTE:*** The record fields ***must match exactly*** the Mastodon API results JSON property names!!!"
   ]
  },
  {
   "cell_type": "markdown",
   "id": "caf3fac6",
   "metadata": {
    "slideshow": {
     "slide_type": "slide"
    }
   },
   "source": [
    "# Maston API Results\n",
    "# Decoding the JSON \n",
    "\n",
    "Using the utility [JSON](https://github.com/preguica/sd2223/blob/main/code/aula9/src/utils/JSON.java) class, decode\n",
    "the response body.\n",
    "\n",
    "```java\n",
    "if (response.getCode() == HTTP_OK) {\n",
    "\tvar res = JSON.decode(response.getBody(), PostStatusResult.class);\n",
    "    ...\n",
    "}\n",
    "```\n",
    "\n",
    "For results that are lists of records, use the following:\n",
    "\n",
    "```java\n",
    "if (response.getCode() == HTTP_OK) {\n",
    "\tvar res = JSON.decode(response.getBody(), new TypeToken<List<PostStatusResult>>() {});\n",
    "    ...\n",
    "}\n",
    "```"
   ]
  },
  {
   "cell_type": "markdown",
   "id": "636175c1",
   "metadata": {
    "slideshow": {
     "slide_type": "slide"
    }
   },
   "source": [
    "# EXERCISES\n",
    "\n",
    "+ Try the [sample code](), after you created your Mastodon application.\n",
    "+ Study the Mastodon API on how to get a post and hot to delete it.\n",
    "+ Investigate how the metadata that Mastodon stores with each status, can be used to fully encode a [Message](https://github.com/preguica/sd2223/blob/main/code/aula9/src/aula9/api/java/Message.java) object, including its id, creating time, text, etc."
   ]
  }
 ],
 "metadata": {
  "celltoolbar": "Slideshow",
  "kernelspec": {
   "display_name": "Python 3 (ipykernel)",
   "language": "python",
   "name": "python3"
  },
  "language_info": {
   "codemirror_mode": {
    "name": "ipython",
    "version": 3
   },
   "file_extension": ".py",
   "mimetype": "text/x-python",
   "name": "python",
   "nbconvert_exporter": "python",
   "pygments_lexer": "ipython3",
   "version": "3.10.6"
  }
 },
 "nbformat": 4,
 "nbformat_minor": 5
}
