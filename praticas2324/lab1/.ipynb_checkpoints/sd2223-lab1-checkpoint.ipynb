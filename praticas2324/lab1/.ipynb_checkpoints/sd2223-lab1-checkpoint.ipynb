{
 "cells": [
  {
   "cell_type": "markdown",
   "metadata": {
    "slideshow": {
     "slide_type": "skip"
    }
   },
   "source": [
    "<style>\n",
    ".jp-RenderedHTMLCommon pre {\n",
    "        background-color: #FFFFF0FF;\n",
    "    }\n",
    "</style>"
   ]
  },
  {
   "cell_type": "markdown",
   "metadata": {
    "slideshow": {
     "slide_type": "slide"
    }
   },
   "source": [
    "# Distributed Systems\n",
    "## 2022/23\n",
    "\n",
    "Lab 1\n",
    "\n",
    "Nuno Preguiça, Sérgio Duarte, João Resende"
   ]
  },
  {
   "cell_type": "markdown",
   "metadata": {
    "slideshow": {
     "slide_type": "slide"
    }
   },
   "source": [
    "# Goals\n",
    "\n",
    "In the end of this lab you should be able to:\n",
    "+ Use [maven](https://maven.apache.org/) to compile a Java project and build a docker image \n",
    "+ Learn the basics of [Docker](https://www.docker.com/) for deploying distributed systems\n",
    "+ Use multicast communication to discover servers in Java"
   ]
  },
  {
   "cell_type": "markdown",
   "metadata": {
    "slideshow": {
     "slide_type": "slide"
    },
    "tags": []
   },
   "source": [
    "# Maven\n",
    "\n",
    "[Maven](https://maven.apache.org/) is a software project management tool used for building Java projects.\n",
    "\n",
    "Its main advantage is that it simplifies the use of dependencies (libraries) needed by a program. \n",
    "\n",
    "Maven can also perfom the various steps in the development cycle, from compilation, packaging and installation of a Java application."
   ]
  },
  {
   "cell_type": "markdown",
   "metadata": {
    "slideshow": {
     "slide_type": "notes"
    },
    "tags": []
   },
   "source": [
    "Note:\n",
    "\n",
    "We will be using maven for building all projects in this course.\n",
    "\n",
    "When using your preferred IDE, make sure you use the option to import the code provided as a Maven project."
   ]
  },
  {
   "cell_type": "markdown",
   "metadata": {
    "slideshow": {
     "slide_type": "slide"
    },
    "tags": []
   },
   "source": [
    "## POM\n",
    "\n",
    "A Maven project has to include a Project Object Model (POM) file,\n",
    "which is akin to a Makefile.\n",
    "\n",
    "Maven uses the information contained in the [pom.xml](https://maven.apache.org/guides/introduction/introduction-to-the-pom.html) file to load libraries, execute compilation steps, build jars and docker imagens using plugins."
   ]
  },
  {
   "cell_type": "markdown",
   "metadata": {
    "slideshow": {
     "slide_type": "slide"
    },
    "tags": []
   },
   "source": [
    "## pom.xml\n",
    "```xml\n",
    "<project xmlns=\"http://maven.apache.org/POM/4.0.0\" xmlns:xsi=\"http://www.w3.org/2001/XMLSchema-instance\" xsi:schemaLocation=\"http://maven.apache.org/POM/4.0.0 https://maven.apache.org/xsd/maven-4.0.0.xsd\">\n",
    "\t<modelVersion>4.0.0</modelVersion>\n",
    "\t<groupId>sd2223-aula1</groupId>\n",
    "\t<artifactId>sd2223-aula1</artifactId>\n",
    "\t<version>1</version>\n",
    "\t<properties>\n",
    "        <!--List of properties-->\n",
    "\t</properties>\n",
    "\t<build>\n",
    "\t\t<sourceDirectory>src</sourceDirectory>\n",
    "\t\t<plugins>\n",
    "            <!--List of plugins-->\n",
    "\t\t</plugins>\n",
    "\t</build>\n",
    "\t<dependencies>\n",
    "            <!--List of dependencies-->\n",
    "\t</dependencies>\n",
    "</project>\n",
    "```"
   ]
  },
  {
   "cell_type": "markdown",
   "metadata": {
    "slideshow": {
     "slide_type": "slide"
    },
    "tags": []
   },
   "source": [
    "## Artefacts\n",
    "\n",
    "Maven uses the information contained in the **pom.xml** file to produce an artefact.\n",
    "```xml\n",
    "    <groupId>sd2223-aula1</groupId>\n",
    "    <artifactId>sd2223-aula1</artifactId>\n",
    "    <version>1</version>\n",
    "```\n",
    "\n",
    "The elements above identify the artefact, which can be used as a dependency in other projects."
   ]
  },
  {
   "cell_type": "markdown",
   "metadata": {
    "slideshow": {
     "slide_type": "slide"
    },
    "tags": []
   },
   "source": [
    "## Properties\n",
    "\n",
    "A POM can also contain a properties, which can be referenced in other\n",
    "parts of the pom.xml.\n",
    "\n",
    "```xml\n",
    "<properties>\n",
    "\t<project.build.sourceEncoding>UTF-8</project.build.sourceEncoding>\n",
    "\t<authors>xxxxx-yyyyy</authors>\n",
    "</properties>\n",
    "```\n",
    "\n",
    "Replace xxxxx-yyyyy with your group members student numbers."
   ]
  },
  {
   "cell_type": "markdown",
   "metadata": {
    "slideshow": {
     "slide_type": "slide"
    },
    "tags": []
   },
   "source": [
    "## Plugins\n",
    "\n",
    "### Java Compiler\n",
    "\n",
    "```xml\n",
    "<plugin>\n",
    "    <artifactId>maven-compiler-plugin</artifactId>\n",
    "    <version>3.8.1</version>\n",
    "    <configuration>\n",
    "        <source>17</source>\n",
    "        <target>17</target>\n",
    "    </configuration>\n",
    "</plugin>\n",
    "```\n",
    "\n",
    "We will use Java 17. You may need to install a suitable JDK (>= 17) and update your IDE to be compatible with Java 17 sources."
   ]
  },
  {
   "cell_type": "markdown",
   "metadata": {
    "slideshow": {
     "slide_type": "slide"
    },
    "tags": []
   },
   "source": [
    "## Plugins\n",
    "\n",
    "### Jar Assembly\n",
    "```xml\n",
    "<plugin>\n",
    "    <artifactId>maven-assembly-plugin</artifactId>\n",
    "        <configuration>\n",
    "            <archive></archive>\n",
    "            <descriptorRefs>\n",
    "                <descriptorRef>jar-with-dependencies</descriptorRef>\n",
    "            </descriptorRefs>\n",
    "        </configuration>\n",
    "</plugin>\n",
    "```\n",
    "Used to package the project code into a single *.jar* file together with any libraries it requires."
   ]
  },
  {
   "cell_type": "markdown",
   "metadata": {
    "slideshow": {
     "slide_type": "slide"
    },
    "tags": []
   },
   "source": [
    "## Plugins\n",
    "\n",
    "### Docker Image\n",
    "```xml\n",
    "<plugin>\n",
    "    <groupId>io.fabric8</groupId>\n",
    "    <artifactId>docker-maven-plugin</artifactId>\n",
    "    <version>0.42.0</version>    \n",
    "    <configuration>\n",
    "        <images>\n",
    "            <image>\n",
    "                <name>${project.artifactId}-${authors}</name>\n",
    "                <build>\n",
    "                    <dockerFile>${project.basedir}/Dockerfile</dockerFile>\n",
    "                </build>\n",
    "            </image>\n",
    "        </images>\n",
    "    </configuration>\n",
    "</plugin>   \n",
    "```\n",
    "This plugin will use the instructions contained in the **Dockerfile**, located in the root of the project, to generate a docker image."
   ]
  },
  {
   "cell_type": "markdown",
   "metadata": {
    "slideshow": {
     "slide_type": "notes"
    },
    "tags": []
   },
   "source": [
    "Note that the name of the docker image will be made of the artifactId and the authors property.\n",
    "\n",
    "**Important:** The plugin fails if Docker is not already running or is not properly configured. Make sure you can run docker without root privileges."
   ]
  },
  {
   "cell_type": "markdown",
   "metadata": {
    "slideshow": {
     "slide_type": "slide"
    },
    "tags": []
   },
   "source": [
    "### Dependencies\n",
    "\n",
    "```xml\n",
    "<dependencies>\n",
    "    <dependency>\n",
    "        <groupId>com.google.guava</groupId>\n",
    "        <artifactId>guava</artifactId>\n",
    "        <version>31.1-jre</version>\n",
    "    </dependency>\n",
    "</dependencies>\n",
    "```\n",
    "\n",
    "A Maven project can include external libraries as dependencies. \n",
    "\n",
    "Maven will pull the necessary jars (or code) from a repository automatically when the project is built."
   ]
  },
  {
   "cell_type": "markdown",
   "metadata": {
    "slideshow": {
     "slide_type": "notes"
    },
    "tags": []
   },
   "source": [
    "For example, [Guava](https://github.com/google/guava) is a library that provides many interesting data structure and utilities types, such as caches. "
   ]
  },
  {
   "cell_type": "markdown",
   "metadata": {
    "slideshow": {
     "slide_type": "slide"
    },
    "tags": []
   },
   "source": [
    " ## Running Maven\n",
    " \n",
    "`mvn clean` - cleans the project, removing generated files \n",
    "\n",
    "`mvn compile` – compiles the project\n",
    "\n",
    "`mvn assembly:single` – creates a single jar file with all the compiled classes and dependencies\n",
    "\n",
    "`mvn docker:build` – builds a docker image using the Dockerfile in the current directory.\n",
    "\n",
    "Note: you can run all at once, by doing:\n",
    "`mvn clean compile assembly:single docker:build`"
   ]
  },
  {
   "cell_type": "markdown",
   "metadata": {
    "slideshow": {
     "slide_type": "slide"
    },
    "tags": []
   },
   "source": [
    "# Docker\n",
    "\n",
    "[Docker](https://www.docker.com/) is a system/platform for running applications using **container** technology.\n",
    "\n",
    "Docker allows multiple services, with multiple instances, to be deployed in the same host computer (cheaply).\n",
    "\n",
    "Docker will be used to deploy and **test** the distributed systems that will be developed during this course (eg., exercises and the **two project assignments**)"
   ]
  },
  {
   "cell_type": "markdown",
   "metadata": {
    "slideshow": {
     "slide_type": "slide"
    },
    "tags": []
   },
   "source": [
    "## Containers\n",
    "\n",
    "Containers execute isolated from the other containers, as if each was running in a dedicated machine, with its own **dedicated** storage and **separate** networking stack.\n",
    "\n",
    "Usually, a container includes all software necessary to run a given application or service and only that."
   ]
  },
  {
   "cell_type": "markdown",
   "metadata": {
    "slideshow": {
     "slide_type": "slide"
    },
    "tags": []
   },
   "source": [
    "## Docker Engine (1)\n",
    "  \n",
    "+ The **docker daemon** (server) manages Docker objects, such as images, containers, networks, and volumes\n",
    "\n",
    "+ The **docker client** sends CLI requests to docker daemon\n",
    "<img src=\"https://preguica.github.io/sd2223/praticas2223/aula1/docker-engine.png\" width=\"40%\"></img>\n"
   ]
  },
  {
   "cell_type": "markdown",
   "metadata": {
    "slideshow": {
     "slide_type": "slide"
    },
    "tags": []
   },
   "source": [
    "## Docker Engine (2)\n",
    "\n",
    "+ A docker registry stores Docker images. Docker is configured to search in [Docker Hub](https://hub.docker.com/) by default\n",
    "\n",
    "+ An image is a read-only template with instructions for creating a Docker container\n",
    "\n",
    "+ Often, an image is based on another image, with some additional customization.\n",
    "\n",
    "+ A Docker image can be created from the specification in a [Dockerfile](https://docs.docker.com/engine/reference/builder/).\n",
    "  \n",
    "<img src=\"https://preguica.github.io/sd2223/praticas2223/aula1/dockerhub.png\" width=\"50%\"></img>"
   ]
  },
  {
   "cell_type": "markdown",
   "metadata": {
    "slideshow": {
     "slide_type": "slide"
    },
    "tags": []
   },
   "source": [
    "## Dockerfile Example\n",
    "\n",
    "```\n",
    "FROM ubuntu\n",
    "\n",
    "RUN apt-get update && apt-get install iproute2 -y\n",
    "\n",
    "ENV JAVA_HOME=/opt/java/openjdk\n",
    "COPY --from=eclipse-temurin:17 $JAVA_HOME $JAVA_HOME\n",
    "ENV PATH=$PATH:$JAVA_HOME/bin\n",
    "\n",
    "WORKDIR /home/sd\n",
    "\n",
    "COPY target/*jar-with-dependencies.jar sd2223.jar\n",
    "```"
   ]
  },
  {
   "cell_type": "markdown",
   "metadata": {
    "slideshow": {
     "slide_type": "notes"
    },
    "tags": []
   },
   "source": [
    "Notes:\n",
    "\n",
    "**FROM** specifies which image will be extended to create the new image. In the example, `openjdk:17` is the official openjdk 17 image\n",
    "\n",
    "**RUN** executes commands in the image, for example to install more packages and software\n",
    "\n",
    "**ENV** defines or modifies an environment variable \n",
    "\n",
    "**WORKDIR** defines the working directory to be used in the following instructions\n",
    "\n",
    "**COPY** copies a file or files to the docker image\n",
    "\n",
    "The full specification with supported commands is available [here](https://docs.docker.com/engine/reference/builder/).\n"
   ]
  },
  {
   "cell_type": "markdown",
   "metadata": {
    "slideshow": {
     "slide_type": "slide"
    },
    "tags": []
   },
   "source": [
    "## Building Images\n",
    "\n",
    "### Manually\n",
    "`docker build -t <tag> <dir>` is used to build images manually.\n",
    "\n",
    "For example:\n",
    "\n",
    "`docker build -t sd2223-aula1-xxxxx-yyyyy .`\n",
    "\n",
    "Builds the docker image using the Dockerfile in the current directory (.) and\n",
    "will name it `sd2223-aula1-xxxxx-yyyyy`\n",
    "\n",
    "### Using maven\n",
    "\n",
    "`mvn docker:build`"
   ]
  },
  {
   "cell_type": "markdown",
   "metadata": {
    "slideshow": {
     "slide_type": "slide"
    },
    "tags": []
   },
   "source": [
    "## Running containers\n",
    "\n",
    "There are multiple ways to run containers...\n",
    "\n",
    "`docker run -d sd2223-aula1-xxxxx-yyyyy` runs the default executable in background\n",
    "\n",
    "`docker run -ti sd2223-aula1-xxxxx-yyyyy` runs the default executable in the foreground with a an interactive terminal (shell)\n",
    "\n",
    "`docker run -ti sd2223-aula1-xxxxx-yyyyy /bin/bash` overrides de default executable to run a different executable\n",
    "\n",
    "Several other options are possible to customize the running of containers. See [docker run](https://docs.docker.com/engine/reference/commandline/run/) for the full details."
   ]
  },
  {
   "cell_type": "markdown",
   "metadata": {
    "slideshow": {
     "slide_type": "slide"
    },
    "tags": []
   },
   "source": [
    "## Docker Networking (1)\n",
    "\n",
    "By default, all containers started in a machine will be able to connect to each other through a virtual network.\n",
    "\n",
    "Each container is assigned an IP and a hostname. The hostname is only known locally. \n",
    "\n",
    "The hostname can be changed using the –h option, as show below:\n",
    "\n",
    "`docker run -h myhostname sd2223-aula1-xxxxx-yyyyy`\n"
   ]
  },
  {
   "cell_type": "markdown",
   "metadata": {
    "slideshow": {
     "slide_type": "slide"
    },
    "tags": []
   },
   "source": [
    "## Docker Networking (2)\n",
    "\n",
    "It is possible to create a bridge network that connect containers in a machine with **hostname resolution**. \n",
    "\n",
    "To create a bridged network named sdnet, run:\n",
    "\n",
    "`docker network create -d bridge sdnet`\n",
    "\n",
    "When running the container, specify the network (`--network sdnet`), the name and hostname (`--name srv1` `-h srv1`):\n",
    "\n",
    "`docker run -h srv1 --name srv1 --network sdnet sd2223-aula1-xxxxx-yyyyy`"
   ]
  },
  {
   "cell_type": "markdown",
   "metadata": {
    "slideshow": {
     "slide_type": "notes"
    },
    "tags": []
   },
   "source": [
    "## Useful commands\n",
    "\n",
    "`docker ps [OPTIONS]`\n",
    "\n",
    "`docker ps` lists running containers\n",
    "\n",
    "`docker ps -a` lists all containers, including stopped containers\n",
    "\n",
    "`docker exec [OPTIONS] <container> <cmd>` to execute a command in a running container\n",
    "\n",
    "`docker logs -f <container>` fetch the logs of a running container\n",
    "\n",
    "`docker kill <container>` to kill a container\n",
    "\n",
    "`docker rm -f <container>` to kill and remove a container\n",
    "\n",
    "`docker system prune` to free disk space used by docker\n",
    "\n",
    "`docker images`  lists docker images cached locally\n",
    "\n",
    "`docker pull` caches an image locally, pulling from the Docker hub\n",
    "\n",
    "`docker push` uploads an image to the docker hub (requires an account)\n"
   ]
  },
  {
   "cell_type": "markdown",
   "metadata": {
    "slideshow": {
     "slide_type": "slide"
    },
    "tags": []
   },
   "source": [
    "# Service Discovery\n",
    "\n",
    "How does a client discover a server?\n",
    "\n",
    "How does a server discover other servers?\n",
    "\n",
    "<img src=\"https://preguica.github.io/sd2223/praticas2223/aula1/discovery-0.png\" width=\"50%\"></img>"
   ]
  },
  {
   "cell_type": "markdown",
   "metadata": {
    "slideshow": {
     "slide_type": "slide"
    }
   },
   "source": [
    "# IP Multicast\n",
    "\n",
    "IP multicast allows sending the same UDP message to multiple processes (normally, only in the same local network).\n",
    "\n",
    "Like unicast UDP, the IP Multicast service is best-effort (unreliable); the key difference is the message is addressed to a group address, instead of to an unicast IP."
   ]
  },
  {
   "cell_type": "markdown",
   "metadata": {
    "slideshow": {
     "slide_type": "slide"
    },
    "tags": []
   },
   "source": [
    "## Server Initiated\n",
    "\n",
    "Periodically, each server annouces its name and location using IP multicast.\n",
    "\n",
    "<img src=\"https://preguica.github.io/sd2223/praticas2223/aula1/discovery-1.png\" width=\"50%\"></img>"
   ]
  },
  {
   "cell_type": "markdown",
   "metadata": {
    "slideshow": {
     "slide_type": "slide"
    },
    "tags": []
   },
   "source": [
    "## Client Initiated\n",
    "\n",
    "The client sends a discovery request asking the location of a service using IP multicast.\n",
    "\n",
    "The request is retransmitted as needed to account for communication failures.\n",
    "\n",
    "<img src=\"https://preguica.github.io/sd2223/praticas2223/aula1/discovery-2.png\" width=\"50%\"></img>"
   ]
  },
  {
   "cell_type": "markdown",
   "metadata": {
    "slideshow": {
     "slide_type": "notes"
    },
    "tags": []
   },
   "source": [
    "Note that in both cases, the IP group address and port needs to have been agreed upon previously."
   ]
  },
  {
   "cell_type": "markdown",
   "metadata": {
    "slideshow": {
     "slide_type": "slide"
    },
    "tags": []
   },
   "source": [
    "# Java Discovery Service\n",
    "\n",
    "We will use server initiated discovery in this course.\n",
    "\n",
    "It will allow us to build distributed-systems that self-organize.\n",
    "\n",
    "The goal is to avoid the need to manually supply IP addresses and ports at runtime.\n"
   ]
  },
  {
   "cell_type": "markdown",
   "metadata": {
    "slideshow": {
     "slide_type": "slide"
    },
    "tags": []
   },
   "source": [
    "## Discovery Service API\n",
    "\n",
    "```java\n",
    "public interface Discovery {\n",
    "\n",
    "    /**\n",
    "\t * Used to announce the URI of the given service name\n",
    "\t */\n",
    "\tpublic void announce(String serviceName, String serviceURI);\n",
    "\n",
    "\t/**\n",
    "\t * Get discovered URIs for a given service name\n",
    "\t */\n",
    "\tpublic URI[] knownUrisOf(String serviceName, int minReplies);\n",
    "\n",
    "\t/**\n",
    "\t * Get the instance of the Discovery service\n",
    "\t */\n",
    "\tpublic static Discovery getInstance() {\n",
    "\t\treturn DiscoveryImpl.getInstance();\n",
    "\t}\n",
    "}\n",
    "```"
   ]
  },
  {
   "cell_type": "markdown",
   "metadata": {
    "slideshow": {
     "slide_type": "slide"
    },
    "tags": []
   },
   "source": [
    "## Singleton Pattern\n",
    "\n",
    "```java\n",
    "class DiscoveryImpl implements Discovery {\n",
    "    private static Discovery singleton;\n",
    "\n",
    "\tsynchronized static Discovery getInstance() {\n",
    "\t\tif (singleton == null) {\n",
    "\t\t\tsingleton = new DiscoveryImpl();\n",
    "\t\t}\n",
    "\t\treturn singleton;\n",
    "\t}\n",
    "```\n",
    "\n",
    "The singleton pattern is meant to only allow a single instance of a class in the same Java process."
   ]
  },
  {
   "cell_type": "markdown",
   "metadata": {
    "slideshow": {
     "slide_type": "slide"
    },
    "tags": []
   },
   "source": [
    "## Discovery Service Implementation (Server-side)\n",
    "\n",
    "Uses a background thread for sending the periodic announcements to\n",
    "the IP multicast group and port.\n",
    "\n",
    "```java\n",
    "@Override\n",
    "public void announce(String serviceName, String serviceURI) {\n",
    "\n",
    "    var pktBytes = String.format(\"%s%s%s\", serviceName, DELIMITER, serviceURI).getBytes();\n",
    "    var pkt = new DatagramPacket(pktBytes, pktBytes.length, DISCOVERY_ADDR);\n",
    "\n",
    "    // start thread to send periodic announcements\n",
    "    new Thread(() -> {\n",
    "        try (var ds = new DatagramSocket()) {\n",
    "            while (true) {\n",
    "                try {\n",
    "                    ds.send(pkt);\n",
    "                    Thread.sleep(DISCOVERY_ANNOUNCE_PERIOD);\n",
    "                } catch (Exception e) {}\n",
    "            }\n",
    "        } catch (Exception e) {}\n",
    "    }).start();\n",
    "}\n",
    "```"
   ]
  },
  {
   "cell_type": "markdown",
   "metadata": {
    "slideshow": {
     "slide_type": "notes"
    },
    "tags": []
   },
   "source": [
    "Notice the format of the announcements..."
   ]
  },
  {
   "cell_type": "markdown",
   "metadata": {
    "slideshow": {
     "slide_type": "slide"
    },
    "tags": []
   },
   "source": [
    "## Discovery Service Implementation (Client-side)\n",
    "\n",
    "A background listener threads listens for announcements and stores them...\n",
    "```java\n",
    "private DiscoveryImpl() {\n",
    "  this.startListener();\n",
    "}\n",
    "private void startListener() {\n",
    "  new Thread(() -> {\n",
    "    try (var ms = new MulticastSocket(DISCOVERY_ADDR.getPort())) {\n",
    "      ms.joinGroup(DISCOVERY_ADDR, NetworkInterface.getByInetAddress(InetAddress.getLocalHost()));\n",
    "      while(true)\n",
    "          try {\n",
    "            var pkt = new DatagramPacket(new byte[MAX_DATAGRAM_SIZE], MAX_DATAGRAM_SIZE);\n",
    "            ms.receive(pkt);\n",
    "            var msg = new String(pkt.getData(), 0, pkt.getLength());\n",
    "            // TODO: decode and store this information...\n",
    "          } catch (Exception x) {}\n",
    "    } catch (Exception x) {}\n",
    "  }).start();\n",
    "}\n",
    "public URI[] knownUrisOf(String serviceName, int minEntries) {\n",
    "  // TODO: use stored annoucements, waiting if necessary...\n",
    "}\n",
    "```"
   ]
  },
  {
   "cell_type": "markdown",
   "metadata": {
    "slideshow": {
     "slide_type": "slide"
    }
   },
   "source": [
    "# Exercises\n",
    "\n",
    "+ Try the building tools\n",
    "+ Complete and test the Discovery Service"
   ]
  },
  {
   "cell_type": "markdown",
   "metadata": {
    "slideshow": {
     "slide_type": "notes"
    }
   },
   "source": [
    "# Exercises\n",
    "\n",
    "### Try the building tools\n",
    "\n",
    "+ Download and import the provided code to the IDE\n",
    "+ Make sure the project is configured as a Maven project.\n",
    "\n",
    "+ Build the image (run in a terminal in the project folder):\n",
    "\n",
    "    `mvn clean compile assembly:single docker:build`\n",
    "\n",
    "+ Create the docker network `sdnet`\n",
    "\n",
    "    `docker network create -d bridge sdnet`\n",
    "\n",
    "+ Run the container and access its shell terminal.\n",
    "\n",
    "    `docker run -ti --network sdnet sd2223-aula1-xxxxx-yyyyy /bin/bash`\n",
    "\n",
    "+ Try some commands, such as:\n",
    "    + `ls`\n",
    "    + `pwd`\n",
    "    + `ip addr`\n",
    "    + `java -version`\n",
    "\n",
    "### Complete and test the Discovery Service\n",
    "\n",
    "+ Complete the Discovery service implementation\n",
    "\n",
    "+ Complete the provided TCP server and client to use the Discovery Service\n",
    "\n",
    "+ Run the TCPServer\n",
    "\n",
    "    `docker run -t --network sdnet sd2223-aula1-xxxxx-yyyyy java aula1.TcpServer`\n",
    "    \n",
    "+ Run the TcpClient\n",
    "\n",
    "    `docker run -ti --network sdnet sd2223-aula1-xxxxx-yyyyy java aula1.TcpClient`"
   ]
  }
 ],
 "metadata": {
  "celltoolbar": "Slideshow",
  "kernelspec": {
   "display_name": "Python 3 (ipykernel)",
   "language": "python",
   "name": "python3"
  },
  "language_info": {
   "codemirror_mode": {
    "name": "ipython",
    "version": 3
   },
   "file_extension": ".py",
   "mimetype": "text/x-python",
   "name": "python",
   "nbconvert_exporter": "python",
   "pygments_lexer": "ipython3",
   "version": "3.10.6"
  },
  "toc-autonumbering": false,
  "toc-showmarkdowntxt": false,
  "toc-showtags": false
 },
 "nbformat": 4,
 "nbformat_minor": 4
}
